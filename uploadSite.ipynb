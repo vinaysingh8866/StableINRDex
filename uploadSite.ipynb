{
 "cells": [
  {
   "cell_type": "code",
   "execution_count": 8,
   "id": "2d250c54",
   "metadata": {},
   "outputs": [],
   "source": [
    "from bs4 import BeautifulSoup \n",
    "import glob \n",
    "import arweave\n",
    "from arweave.arweave_lib import Wallet, Transaction\n",
    "from arweave.transaction_uploader import get_uploader\n",
    "import requests\n",
    "wallet_file_path = '/Users/vinaysingh/Desktop/keys/arweave-key-P8UQxA_pYGgYq99rxYQzSAu6tUZrfXvyiGKcWJQStvo.json'\n",
    "wallet = arweave.Wallet(wallet_file_path)\n",
    "files = glob.glob(\"out/**\",recursive=True)\n",
    "file = open(\"out/index.html\")\n",
    "data = file.read()\n",
    "soup = BeautifulSoup(data, 'html.parser')"
   ]
  },
  {
   "cell_type": "code",
   "execution_count": 9,
   "id": "07bc0d21",
   "metadata": {},
   "outputs": [],
   "source": [
    "balance =  wallet.balance"
   ]
  },
  {
   "cell_type": "code",
   "execution_count": 10,
   "id": "f8e1b7cd",
   "metadata": {},
   "outputs": [
    {
     "name": "stdout",
     "output_type": "stream",
     "text": [
      "0.26798435614 guVlYtSKzahey9KSlslQ_1LfoZ-Hi6rO3yfHJZSYamR4sMbzzu08qXpdFU2fBpoY\n"
     ]
    }
   ],
   "source": [
    "last_transaction = wallet.get_last_transaction_id()\n",
    "print(balance, last_transaction)"
   ]
  },
  {
   "cell_type": "code",
   "execution_count": 11,
   "id": "f4615b87",
   "metadata": {},
   "outputs": [
    {
     "name": "stdout",
     "output_type": "stream",
     "text": [
      "100% complete, 1/1\n",
      "<script defer=\"\" src=\"/_next/static/chunks/webpack-434fefa8f39d8fbc.js\"></script> JgqC1XJqH0HNb2BHIWhETx5GaVcX_m4AT96XpybbAAA\n",
      "100% complete, 1/1\n",
      "<script defer=\"\" src=\"/_next/static/chunks/framework-1f10003e17636e37.js\"></script> WNK4Bds28Kg5oDcfahyzIJSJ8g583bcAdKPbeQq7z98\n",
      "100% complete, 1/1\n",
      "<script defer=\"\" src=\"/_next/static/chunks/main-fc7d2f0e2098927e.js\"></script> PWSeRq2Di5nhhkMMsAKAsU_bnn9QeKweZdAYvFZOks4\n",
      "100% complete, 1/1\n",
      "<script defer=\"\" src=\"/_next/static/chunks/pages/_app-ff5e6479e160d139.js\"></script> 4JABCo_HRYS5UlUiEs-BJI64G9usPZ4oKvjLHeHXsWg\n",
      "50% complete, 1/2\n",
      "100% complete, 2/2\n",
      "<script defer=\"\" src=\"/_next/static/chunks/583-8f6823f5484e3f2c.js\"></script> or1gPcn566k2sOefx0odVutjpug5NVYrR4EteatSTj8\n",
      "100% complete, 1/1\n",
      "<script defer=\"\" src=\"/_next/static/chunks/pages/index-1cf8d8ea0d978bd9.js\"></script> 7_HnjTIfzlVwKhcxOdLfvcBsCz6rZHRbFN_OwWj8Rj8\n",
      "100% complete, 1/1\n",
      "<script defer=\"\" src=\"/_next/static/defaUEW3NnBKVwXmY9eH2/_buildManifest.js\"></script> xOVcxIZTdje_L9XnY0GYVST5QJVBQ93OLh43gg_fflg\n",
      "100% complete, 1/1\n",
      "<script defer=\"\" src=\"/_next/static/defaUEW3NnBKVwXmY9eH2/_ssgManifest.js\"></script> mgyjNlsmWpl5CLQSvQPF27oSkfREjWWNvJ4QCzo1ynE\n",
      "100% complete, 1/1\n",
      "<script defer=\"\" src=\"/_next/static/defaUEW3NnBKVwXmY9eH2/_middlewareManifest.js\"></script> 17BKBzmWb5ioMDp-3yKFugXnE3Y_eB-5SYEvfhpY5nU\n",
      "exists\n",
      "https://eyfifvlsnipudtlpmbdsc2cej4pem2kxc6nyae7xuxu4tnwaaa.arweave.net/JgqC1XJqH0HNb2BHIWhETx5GaVcX_m4AT96XpybbAAA\n",
      "exists\n",
      "https://ldjlqbo3g3ykqonag4pwuhfteckit4qopto3oaduupnxscv3z7pq.arweave.net/WNK4Bds28Kg5oDcfahyzIJSJ8g583bcAdKPbeQq7z98\n",
      "exists\n",
      "https://hvsj4rvnqofztymgimglaauawfdoph6udyvqpgluayxrle5ewm.arweave.net/PWSeRq2Di5nhhkMMsAKAsU_bnn9QeKweZdAYvFZOks4\n",
      "exists\n",
      "https://4ciaccub2fqs4vevjcclaesi5oa33owd3hrifl4mwhpb26yw.arweave.net/4JABCo_HRYS5UlUiEs-BJI64G9usPZ4oKvjLHeHXsWg\n",
      "exists\n",
      "https://uk6wapoj7hv2snvq46p4osq5k3vwhjxihe2vmk2hqewxtk2sjy7q.arweave.net/or1gPcn566k2sOefx0odVutjpug5NVYrR4EteatSTj8\n",
      "exists\n",
      "https://5r46gteh6okvycufzrhhjn7poanqft5k3eornrju5qli7rdd.arweave.net/7_HnjTIfzlVwKhcxOdLfvcBsCz6rZHRbFN_OwWj8Rj8\n",
      "exists\n",
      "https://ytsvzregkn3dpc7vphmnazqvje7fajkqkd3xhc4hrxqid57f.arweave.net/xOVcxIZTdje_L9XnY0GYVST5QJVBQ93OLh43gg_fflg\n",
      "exists\n",
      "https://tigkgns3eznjs6iiwqjl2a6f3o5bfepuisgwldn4tyiaworvzjyq.arweave.net/mgyjNlsmWpl5CLQSvQPF27oSkfREjWWNvJ4QCzo1ynE\n",
      "exists\n",
      "https://26yeubzzszxzrkbqhj34riloqf44jxmhqhssmbf57buwhgou.arweave.net/17BKBzmWb5ioMDp-3yKFugXnE3Y_eB-5SYEvfhpY5nU\n",
      "/_next/static/css/4ca8d95180adb9ca.css\n",
      "100% complete, 1/1\n",
      "<link as=\"style\" href=\"/_next/static/css/4ca8d95180adb9ca.css\" rel=\"preload\"/> ZlHmUKGs61aVyUNLPelNw4Vnogi4nPDbbIUOh_BfH5Q\n",
      "/_next/static/css/4ca8d95180adb9ca.css\n",
      "100% complete, 1/1\n",
      "<link data-n-g=\"\" href=\"/_next/static/css/4ca8d95180adb9ca.css\" rel=\"stylesheet\"/> ofRucsdZJXIm4XbcN-K4LE1pX81SvF8v-BQsiPSt4t4\n",
      "exists\n",
      "https://mzi6mufbvtvvnfojinft32knyocwpiqixcopbw3mquhiif6h4u.arweave.net/ZlHmUKGs61aVyUNLPelNw4Vnogi4nPDbbIUOh_BfH5Q\n",
      "https://uh2g44whlesxejxbo3odjlqlcnnfp42uv4l4xqkczchuvxrn.arweave.net/ofRucsdZJXIm4XbcN-K4LE1pX81SvF8v-BQsiPSt4t4\n"
     ]
    }
   ],
   "source": [
    "fileN = \"out\"\n",
    "tx = \"\"\n",
    "tagsDict = {}\n",
    "for tag in soup.findAll('script'):\n",
    "    if('src' in str(tag)):\n",
    "        with open(fileN+tag['src'], \"rb\", buffering=0) as file_handler:\n",
    "            tx = Transaction(wallet, file_handler=file_handler, file_path=fileN+tag['src'])\n",
    "            tx.add_tag('Content-Type','application/javascript') \n",
    "            tx.sign()\n",
    "            uploader = get_uploader(tx, file_handler)\n",
    "            while not uploader.is_complete:\n",
    "                uploader.upload_chunk()\n",
    "\n",
    "                print(\"{}% complete, {}/{}\".format(\n",
    "                    uploader.pct_complete, uploader.uploaded_chunks, uploader.total_chunks\n",
    "                ))\n",
    "            tagsDict[tx.id] = tag['src']\n",
    "            print(tag, tx.id)\n",
    "\n",
    "for x in tagsDict:\n",
    "    r = requests.get('https://arweave.net/' + x)\n",
    "    file = open('out/index.html', 'r')\n",
    "    filedata = file.read()\n",
    "    file.close()\n",
    "    if(tagsDict[x] in filedata):\n",
    "        print(\"exists\")\n",
    "    filedata = filedata.replace(tagsDict[x], r.url)\n",
    "    with open('out/index.html', 'w') as filea:\n",
    "        filea.write(filedata)\n",
    "    \n",
    "    print(r.url)\n",
    "\n",
    "tx = \"\"\n",
    "tagsDictCss = {}\n",
    "for tag in soup.findAll('link'):\n",
    "    if('href' in str(tag) and '.css' in str(tag)):\n",
    "        print(tag['href'])\n",
    "        with open(fileN+tag['href'], \"rb\", buffering=0) as file_handler:\n",
    "            tx = Transaction(wallet, file_handler=file_handler, file_path=fileN+tag['href'])\n",
    "            tx.add_tag('Content-Type','text/css') \n",
    "            tx.sign()\n",
    "            uploader = get_uploader(tx, file_handler)\n",
    "            while not uploader.is_complete:\n",
    "                uploader.upload_chunk()\n",
    "\n",
    "                print(\"{}% complete, {}/{}\".format(\n",
    "                    uploader.pct_complete, uploader.uploaded_chunks, uploader.total_chunks\n",
    "                ))\n",
    "            tagsDictCss[tx.id] = tag['href']\n",
    "            print(tag, tx.id)\n",
    "\n",
    "for x in tagsDictCss:\n",
    "    r = requests.get('https://arweave.net/' + x)\n",
    "    file = open('out/index.html', 'r')\n",
    "    filedata = file.read()\n",
    "    file.close()\n",
    "    if(tagsDictCss[x] in filedata):\n",
    "        print(\"exists\")\n",
    "    filedata = filedata.replace(tagsDictCss[x], r.url)\n",
    "    with open('out/index.html', 'w') as filea:\n",
    "        filea.write(filedata)\n",
    "    \n",
    "    print(r.url)\n"
   ]
  },
  {
   "cell_type": "code",
   "execution_count": 12,
   "id": "eeddc0af",
   "metadata": {},
   "outputs": [
    {
     "name": "stderr",
     "output_type": "stream",
     "text": [
      "\n",
      "\n",
      "{\"data\":\"\",\"id\":\"xf01Xa1PmaeVJufi8fBP7tuN4jEsPOM7nOmfZiYzrqM\",\"last_tx\":\"SZmHyavqEOVp1yZVlOFoy2CPSknjWXJ4HDhGQlXTWR5Ut7cd5jp5LXFbdkKLWh8-\",\"owner\":\"vogeHsUheOKtF_8sQcUAHfNmxaUn_6guyhqNJQfi6v7KM3dwamtnlf3fbYMVFsRyh5H_XvzWxieNjPzO5jR0iUPZqLAgCKtCa3IkkEStM0VOw_OFbxAqHihhKDOK0W3RgS4VNewUmks9hmGf4or61Xqb-4F8DILzCnaGVBdmM_18CjlZaznEPaszMQA1M7WIqMqPQwUOHwEOfvSqGlnF-DqKS8_JAP0XSE_VH4vD7TbFQ--071hiFsxVUBjWq0gCpPLiR75y23o9EUOdudP5uaEbIYw9GjaJJ-7CAGsYMZSf4cNs8Gi_VlZavpzqYtFMXudTWOo88YmQRpdytWOMh9-T2ZFOT2CIA7nFEhpxOjB7sd5xzYWE0prVMZBI9NQa8iLhODN5bmRkGucOw5ALlkysbQCYblZWjtU5e1zfUioGwIrrKlFGKLOiIRb3qb4FKTZIEClUCZq8wQIpCwQKCimwGhLzb5EvjFcwJf2aRlojNj9ZMLJvPhWpXrmJzHiR9gdi9M_YO23UQpjhsXfMkIxkvHYzEO3vrTaTlEozs5rTluHObWtJq3JsYHdVsBI5OFZ_8i4hoaw4wAFlnYKY_7SaN28LBO3zAcOMSVXwxt89bqXIiJHGmtF_V8MXVTWaYdnLZpMPxx7mSdZWfb1oJUNXpxn-WZ3HXN5CUFlV60c\",\"quantity\":\"0\",\"reward\":\"69416606\",\"signature\":\"E9oxar9qjTJxU5xc833JIlGveFZ8q0FmrGVEJJq8jIlveM_xqnhS3YaHg9qCROQzR3m65mqyTznJqo5SqASeNfPoF99Q6R_NWBYEOPF7NS2v0_N2pgQNDR3mZXbXi9HbLz6_C0YRHKn9Nt23V8iTTEHSHQnoR4i83Ovo2GCbtrj2-0GS5KbazBRVqZSdirNfo4fsBRho_MGnBcvqy8y-clVLRZju89G6B6SV8wOpM5l3ymCb0N1W6D7C0_FAL6_8Rj5T9_pUO3hUb5PI6CZAcP9sK0HRVHyQNXMHaG8j7hzOKbE5nHIUfJppCexHrU7uDBFB60MWnXU-w4MCvVa5f7FRuhy2ERG6zl2BogJ1hHBKiDIH4RB6i6iHSZbbd8UztkDZzU3BZezEZWdtHiHFm5en0hRvgeZeAvBBo3lZsafnFyQSGHAYtDUxW1xMJuuesuk6KL2mmzj8a1YUM8iVSyzPPzhwMntDqUVR77w6bTPhnFp3QWIvR3SuSD_wXz88VZGWIk41YrW2RIrofWtt7IKkzpiBC0r93_-CdrcC_zL-LbhbG6PyDZo0AIk0mcvQZAN16M3A8I0Y60mODrUfZyc5rTGjkOrMj94oM-8pdjbZraxLB2meIKLDyKIJj_ri2aX5-Z_FXW7DR57DBJbg4RbluZcpE-kZljsqQC9yMoY\",\"tags\":[{\"name\":\"UTI5dWRHVnVkQzFVZVhCbA\",\"value\":\"ZEdWNGRDOW9kRzFz\"}],\"target\":\"\",\"format\":2,\"data_root\":\"6QYEc-CbozTIXYh3El-40fuw8K3pSyWKtDfA8EtPALg\",\"data_size\":\"31449\",\"data_tree\":[]}\n"
     ]
    },
    {
     "ename": "JSONDecodeError",
     "evalue": "Expecting value: line 1 column 1 (char 0)",
     "output_type": "error",
     "traceback": [
      "\u001b[0;31m---------------------------------------------------------------------------\u001b[0m",
      "\u001b[0;31mJSONDecodeError\u001b[0m                           Traceback (most recent call last)",
      "\u001b[1;32m/Users/vinaysingh/Desktop/DeFi/stableINR/FrontEnd/uploadSite.ipynb Cell 5'\u001b[0m in \u001b[0;36m<cell line: 1>\u001b[0;34m()\u001b[0m\n\u001b[1;32m      <a href='vscode-notebook-cell:/Users/vinaysingh/Desktop/DeFi/stableINR/FrontEnd/uploadSite.ipynb#ch0000004?line=4'>5</a>\u001b[0m uploader \u001b[39m=\u001b[39m get_uploader(tx, file_handler)\n\u001b[1;32m      <a href='vscode-notebook-cell:/Users/vinaysingh/Desktop/DeFi/stableINR/FrontEnd/uploadSite.ipynb#ch0000004?line=5'>6</a>\u001b[0m \u001b[39mwhile\u001b[39;00m \u001b[39mnot\u001b[39;00m uploader\u001b[39m.\u001b[39mis_complete:\n\u001b[0;32m----> <a href='vscode-notebook-cell:/Users/vinaysingh/Desktop/DeFi/stableINR/FrontEnd/uploadSite.ipynb#ch0000004?line=6'>7</a>\u001b[0m     uploader\u001b[39m.\u001b[39;49mupload_chunk()\n\u001b[1;32m      <a href='vscode-notebook-cell:/Users/vinaysingh/Desktop/DeFi/stableINR/FrontEnd/uploadSite.ipynb#ch0000004?line=8'>9</a>\u001b[0m     \u001b[39mprint\u001b[39m(\u001b[39m\"\u001b[39m\u001b[39m{}\u001b[39;00m\u001b[39m% c\u001b[39;00m\u001b[39momplete, \u001b[39m\u001b[39m{}\u001b[39;00m\u001b[39m/\u001b[39m\u001b[39m{}\u001b[39;00m\u001b[39m\"\u001b[39m\u001b[39m.\u001b[39mformat(\n\u001b[1;32m     <a href='vscode-notebook-cell:/Users/vinaysingh/Desktop/DeFi/stableINR/FrontEnd/uploadSite.ipynb#ch0000004?line=9'>10</a>\u001b[0m         uploader\u001b[39m.\u001b[39mpct_complete, uploader\u001b[39m.\u001b[39muploaded_chunks, uploader\u001b[39m.\u001b[39mtotal_chunks\n\u001b[1;32m     <a href='vscode-notebook-cell:/Users/vinaysingh/Desktop/DeFi/stableINR/FrontEnd/uploadSite.ipynb#ch0000004?line=10'>11</a>\u001b[0m     ))\n",
      "File \u001b[0;32m/usr/local/lib/python3.9/site-packages/arweave/transaction_uploader.py:116\u001b[0m, in \u001b[0;36mTransactionUploader.upload_chunk\u001b[0;34m(self)\u001b[0m\n\u001b[1;32m    <a href='file:///usr/local/lib/python3.9/site-packages/arweave/transaction_uploader.py?line=112'>113</a>\u001b[0m chunk \u001b[39m=\u001b[39m \u001b[39mself\u001b[39m\u001b[39m.\u001b[39mtransaction\u001b[39m.\u001b[39mget_chunk(\u001b[39mself\u001b[39m\u001b[39m.\u001b[39mchunk_index)\n\u001b[1;32m    <a href='file:///usr/local/lib/python3.9/site-packages/arweave/transaction_uploader.py?line=114'>115</a>\u001b[0m \u001b[39mif\u001b[39;00m \u001b[39mnot\u001b[39;00m \u001b[39mself\u001b[39m\u001b[39m.\u001b[39mtx_posted:\n\u001b[0;32m--> <a href='file:///usr/local/lib/python3.9/site-packages/arweave/transaction_uploader.py?line=115'>116</a>\u001b[0m     \u001b[39mself\u001b[39;49m\u001b[39m.\u001b[39;49mpost_transaction(chunk)\n\u001b[1;32m    <a href='file:///usr/local/lib/python3.9/site-packages/arweave/transaction_uploader.py?line=117'>118</a>\u001b[0m \u001b[39mif\u001b[39;00m \u001b[39mself\u001b[39m\u001b[39m.\u001b[39mis_complete:\n\u001b[1;32m    <a href='file:///usr/local/lib/python3.9/site-packages/arweave/transaction_uploader.py?line=118'>119</a>\u001b[0m     \u001b[39mreturn\u001b[39;00m\n",
      "File \u001b[0;32m/usr/local/lib/python3.9/site-packages/arweave/transaction_uploader.py:194\u001b[0m, in \u001b[0;36mTransactionUploader.post_transaction\u001b[0;34m(self, chunk)\u001b[0m\n\u001b[1;32m    <a href='file:///usr/local/lib/python3.9/site-packages/arweave/transaction_uploader.py?line=190'>191</a>\u001b[0m     \u001b[39melse\u001b[39;00m:\n\u001b[1;32m    <a href='file:///usr/local/lib/python3.9/site-packages/arweave/transaction_uploader.py?line=191'>192</a>\u001b[0m         logger\u001b[39m.\u001b[39merror(\u001b[39m\"\u001b[39m\u001b[39m{}\u001b[39;00m\u001b[39m\\n\u001b[39;00m\u001b[39m\\n\u001b[39;00m\u001b[39m{}\u001b[39;00m\u001b[39m\"\u001b[39m\u001b[39m.\u001b[39mformat(response\u001b[39m.\u001b[39mtext, \u001b[39mself\u001b[39m\u001b[39m.\u001b[39mtransaction\u001b[39m.\u001b[39mjson_data))\n\u001b[0;32m--> <a href='file:///usr/local/lib/python3.9/site-packages/arweave/transaction_uploader.py?line=193'>194</a>\u001b[0m         \u001b[39mself\u001b[39m\u001b[39m.\u001b[39mlast_response_error \u001b[39m=\u001b[39m json\u001b[39m.\u001b[39;49mloads(response\u001b[39m.\u001b[39;49mtext)\n\u001b[1;32m    <a href='file:///usr/local/lib/python3.9/site-packages/arweave/transaction_uploader.py?line=195'>196</a>\u001b[0m         \u001b[39mraise\u001b[39;00m TransactionUploaderException(\n\u001b[1;32m    <a href='file:///usr/local/lib/python3.9/site-packages/arweave/transaction_uploader.py?line=196'>197</a>\u001b[0m             \u001b[39m\"\u001b[39m\u001b[39mUnable to upload transaction \u001b[39m\u001b[39m{}\u001b[39;00m\u001b[39m, \u001b[39m\u001b[39m{}\u001b[39;00m\u001b[39m\"\u001b[39m\u001b[39m.\u001b[39mformat(response\u001b[39m.\u001b[39mstatus_code, \u001b[39mself\u001b[39m\u001b[39m.\u001b[39mlast_response_error)\n\u001b[1;32m    <a href='file:///usr/local/lib/python3.9/site-packages/arweave/transaction_uploader.py?line=197'>198</a>\u001b[0m         )\n\u001b[1;32m    <a href='file:///usr/local/lib/python3.9/site-packages/arweave/transaction_uploader.py?line=199'>200</a>\u001b[0m url \u001b[39m=\u001b[39m \u001b[39m\"\u001b[39m\u001b[39m{}\u001b[39;00m\u001b[39m/tx\u001b[39m\u001b[39m\"\u001b[39m\u001b[39m.\u001b[39mformat(\u001b[39mself\u001b[39m\u001b[39m.\u001b[39mtransaction\u001b[39m.\u001b[39mapi_url)\n",
      "File \u001b[0;32m/usr/local/Cellar/python@3.9/3.9.12/Frameworks/Python.framework/Versions/3.9/lib/python3.9/json/__init__.py:346\u001b[0m, in \u001b[0;36mloads\u001b[0;34m(s, cls, object_hook, parse_float, parse_int, parse_constant, object_pairs_hook, **kw)\u001b[0m\n\u001b[1;32m    <a href='file:///usr/local/Cellar/python%403.9/3.9.12/Frameworks/Python.framework/Versions/3.9/lib/python3.9/json/__init__.py?line=340'>341</a>\u001b[0m     s \u001b[39m=\u001b[39m s\u001b[39m.\u001b[39mdecode(detect_encoding(s), \u001b[39m'\u001b[39m\u001b[39msurrogatepass\u001b[39m\u001b[39m'\u001b[39m)\n\u001b[1;32m    <a href='file:///usr/local/Cellar/python%403.9/3.9.12/Frameworks/Python.framework/Versions/3.9/lib/python3.9/json/__init__.py?line=342'>343</a>\u001b[0m \u001b[39mif\u001b[39;00m (\u001b[39mcls\u001b[39m \u001b[39mis\u001b[39;00m \u001b[39mNone\u001b[39;00m \u001b[39mand\u001b[39;00m object_hook \u001b[39mis\u001b[39;00m \u001b[39mNone\u001b[39;00m \u001b[39mand\u001b[39;00m\n\u001b[1;32m    <a href='file:///usr/local/Cellar/python%403.9/3.9.12/Frameworks/Python.framework/Versions/3.9/lib/python3.9/json/__init__.py?line=343'>344</a>\u001b[0m         parse_int \u001b[39mis\u001b[39;00m \u001b[39mNone\u001b[39;00m \u001b[39mand\u001b[39;00m parse_float \u001b[39mis\u001b[39;00m \u001b[39mNone\u001b[39;00m \u001b[39mand\u001b[39;00m\n\u001b[1;32m    <a href='file:///usr/local/Cellar/python%403.9/3.9.12/Frameworks/Python.framework/Versions/3.9/lib/python3.9/json/__init__.py?line=344'>345</a>\u001b[0m         parse_constant \u001b[39mis\u001b[39;00m \u001b[39mNone\u001b[39;00m \u001b[39mand\u001b[39;00m object_pairs_hook \u001b[39mis\u001b[39;00m \u001b[39mNone\u001b[39;00m \u001b[39mand\u001b[39;00m \u001b[39mnot\u001b[39;00m kw):\n\u001b[0;32m--> <a href='file:///usr/local/Cellar/python%403.9/3.9.12/Frameworks/Python.framework/Versions/3.9/lib/python3.9/json/__init__.py?line=345'>346</a>\u001b[0m     \u001b[39mreturn\u001b[39;00m _default_decoder\u001b[39m.\u001b[39;49mdecode(s)\n\u001b[1;32m    <a href='file:///usr/local/Cellar/python%403.9/3.9.12/Frameworks/Python.framework/Versions/3.9/lib/python3.9/json/__init__.py?line=346'>347</a>\u001b[0m \u001b[39mif\u001b[39;00m \u001b[39mcls\u001b[39m \u001b[39mis\u001b[39;00m \u001b[39mNone\u001b[39;00m:\n\u001b[1;32m    <a href='file:///usr/local/Cellar/python%403.9/3.9.12/Frameworks/Python.framework/Versions/3.9/lib/python3.9/json/__init__.py?line=347'>348</a>\u001b[0m     \u001b[39mcls\u001b[39m \u001b[39m=\u001b[39m JSONDecoder\n",
      "File \u001b[0;32m/usr/local/Cellar/python@3.9/3.9.12/Frameworks/Python.framework/Versions/3.9/lib/python3.9/json/decoder.py:337\u001b[0m, in \u001b[0;36mJSONDecoder.decode\u001b[0;34m(self, s, _w)\u001b[0m\n\u001b[1;32m    <a href='file:///usr/local/Cellar/python%403.9/3.9.12/Frameworks/Python.framework/Versions/3.9/lib/python3.9/json/decoder.py?line=331'>332</a>\u001b[0m \u001b[39mdef\u001b[39;00m \u001b[39mdecode\u001b[39m(\u001b[39mself\u001b[39m, s, _w\u001b[39m=\u001b[39mWHITESPACE\u001b[39m.\u001b[39mmatch):\n\u001b[1;32m    <a href='file:///usr/local/Cellar/python%403.9/3.9.12/Frameworks/Python.framework/Versions/3.9/lib/python3.9/json/decoder.py?line=332'>333</a>\u001b[0m     \u001b[39m\"\"\"Return the Python representation of ``s`` (a ``str`` instance\u001b[39;00m\n\u001b[1;32m    <a href='file:///usr/local/Cellar/python%403.9/3.9.12/Frameworks/Python.framework/Versions/3.9/lib/python3.9/json/decoder.py?line=333'>334</a>\u001b[0m \u001b[39m    containing a JSON document).\u001b[39;00m\n\u001b[1;32m    <a href='file:///usr/local/Cellar/python%403.9/3.9.12/Frameworks/Python.framework/Versions/3.9/lib/python3.9/json/decoder.py?line=334'>335</a>\u001b[0m \n\u001b[1;32m    <a href='file:///usr/local/Cellar/python%403.9/3.9.12/Frameworks/Python.framework/Versions/3.9/lib/python3.9/json/decoder.py?line=335'>336</a>\u001b[0m \u001b[39m    \"\"\"\u001b[39;00m\n\u001b[0;32m--> <a href='file:///usr/local/Cellar/python%403.9/3.9.12/Frameworks/Python.framework/Versions/3.9/lib/python3.9/json/decoder.py?line=336'>337</a>\u001b[0m     obj, end \u001b[39m=\u001b[39m \u001b[39mself\u001b[39;49m\u001b[39m.\u001b[39;49mraw_decode(s, idx\u001b[39m=\u001b[39;49m_w(s, \u001b[39m0\u001b[39;49m)\u001b[39m.\u001b[39;49mend())\n\u001b[1;32m    <a href='file:///usr/local/Cellar/python%403.9/3.9.12/Frameworks/Python.framework/Versions/3.9/lib/python3.9/json/decoder.py?line=337'>338</a>\u001b[0m     end \u001b[39m=\u001b[39m _w(s, end)\u001b[39m.\u001b[39mend()\n\u001b[1;32m    <a href='file:///usr/local/Cellar/python%403.9/3.9.12/Frameworks/Python.framework/Versions/3.9/lib/python3.9/json/decoder.py?line=338'>339</a>\u001b[0m     \u001b[39mif\u001b[39;00m end \u001b[39m!=\u001b[39m \u001b[39mlen\u001b[39m(s):\n",
      "File \u001b[0;32m/usr/local/Cellar/python@3.9/3.9.12/Frameworks/Python.framework/Versions/3.9/lib/python3.9/json/decoder.py:355\u001b[0m, in \u001b[0;36mJSONDecoder.raw_decode\u001b[0;34m(self, s, idx)\u001b[0m\n\u001b[1;32m    <a href='file:///usr/local/Cellar/python%403.9/3.9.12/Frameworks/Python.framework/Versions/3.9/lib/python3.9/json/decoder.py?line=352'>353</a>\u001b[0m     obj, end \u001b[39m=\u001b[39m \u001b[39mself\u001b[39m\u001b[39m.\u001b[39mscan_once(s, idx)\n\u001b[1;32m    <a href='file:///usr/local/Cellar/python%403.9/3.9.12/Frameworks/Python.framework/Versions/3.9/lib/python3.9/json/decoder.py?line=353'>354</a>\u001b[0m \u001b[39mexcept\u001b[39;00m \u001b[39mStopIteration\u001b[39;00m \u001b[39mas\u001b[39;00m err:\n\u001b[0;32m--> <a href='file:///usr/local/Cellar/python%403.9/3.9.12/Frameworks/Python.framework/Versions/3.9/lib/python3.9/json/decoder.py?line=354'>355</a>\u001b[0m     \u001b[39mraise\u001b[39;00m JSONDecodeError(\u001b[39m\"\u001b[39m\u001b[39mExpecting value\u001b[39m\u001b[39m\"\u001b[39m, s, err\u001b[39m.\u001b[39mvalue) \u001b[39mfrom\u001b[39;00m \u001b[39mNone\u001b[39m\n\u001b[1;32m    <a href='file:///usr/local/Cellar/python%403.9/3.9.12/Frameworks/Python.framework/Versions/3.9/lib/python3.9/json/decoder.py?line=355'>356</a>\u001b[0m \u001b[39mreturn\u001b[39;00m obj, end\n",
      "\u001b[0;31mJSONDecodeError\u001b[0m: Expecting value: line 1 column 1 (char 0)"
     ]
    }
   ],
   "source": [
    "with open('out/index.html', \"rb\", buffering=0) as file_handler:\n",
    "                tx = Transaction(wallet, file_handler=file_handler, file_path=\"out/index.html\")\n",
    "                tx.add_tag('Content-Type','text/html') \n",
    "                tx.sign()\n",
    "                uploader = get_uploader(tx, file_handler)\n",
    "                while not uploader.is_complete:\n",
    "                    uploader.upload_chunk()\n",
    "\n",
    "                    print(\"{}% complete, {}/{}\".format(\n",
    "                        uploader.pct_complete, uploader.uploaded_chunks, uploader.total_chunks\n",
    "                    ))"
   ]
  },
  {
   "cell_type": "code",
   "execution_count": 13,
   "id": "b53df0fb",
   "metadata": {},
   "outputs": [
    {
     "data": {
      "text/plain": [
       "<link data-n-g=\"\" href=\"/_next/static/css/4ca8d95180adb9ca.css\" rel=\"stylesheet\"/>"
      ]
     },
     "execution_count": 13,
     "metadata": {},
     "output_type": "execute_result"
    }
   ],
   "source": [
    "tag\n",
    "\n"
   ]
  },
  {
   "cell_type": "code",
   "execution_count": 69,
   "id": "1ca3e602",
   "metadata": {},
   "outputs": [
    {
     "name": "stdout",
     "output_type": "stream",
     "text": [
      "/_next/static/css/962cf09ecce53247.css\n",
      "100% complete, 1/1\n",
      "<link as=\"style\" href=\"/_next/static/css/962cf09ecce53247.css\" rel=\"preload\"/> FVZx7GIQKHP1eIPohgQr8YFG_7e_Yb7eZ2pG7DGwL8E\n",
      "/_next/static/css/962cf09ecce53247.css\n",
      "100% complete, 1/1\n",
      "<link data-n-g=\"\" href=\"/_next/static/css/962cf09ecce53247.css\" rel=\"stylesheet\"/> wQk5xIcrSKK1i963G5QsfKkcwCJ57dB9hMbh_ZqJ5OQ\n"
     ]
    }
   ],
   "source": [
    "fileN = \"out\"\n",
    "\n",
    "        "
   ]
  },
  {
   "cell_type": "code",
   "execution_count": 71,
   "id": "5ab53191",
   "metadata": {},
   "outputs": [],
   "source": [
    "tagsDictCss = {}\n",
    "tagsDictCss['FVZx7GIQKHP1eIPohgQr8YFG_7e_Yb7eZ2pG7DGwL8E'] = \"/_next/static/css/962cf09ecce53247.css\"\n",
    "\n"
   ]
  },
  {
   "cell_type": "code",
   "execution_count": 72,
   "id": "d2776977",
   "metadata": {},
   "outputs": [
    {
     "name": "stdout",
     "output_type": "stream",
     "text": [
      "exists\n",
      "https://cvlhd3dccauhh5lyqpuimbbl6gaun3pgdpw6m5ven3brwax4.arweave.net/FVZx7GIQKHP1eIPohgQr8YFG_7e_Yb7eZ2pG7DGwL8E\n"
     ]
    }
   ],
   "source": []
  },
  {
   "cell_type": "code",
   "execution_count": null,
   "id": "9c89f639",
   "metadata": {},
   "outputs": [],
   "source": []
  }
 ],
 "metadata": {
  "interpreter": {
   "hash": "aee8b7b246df8f9039afb4144a1f6fd8d2ca17a180786b69acc140d282b71a49"
  },
  "kernelspec": {
   "display_name": "Python 3.9.12 64-bit",
   "language": "python",
   "name": "python3"
  },
  "language_info": {
   "codemirror_mode": {
    "name": "ipython",
    "version": 3
   },
   "file_extension": ".py",
   "mimetype": "text/x-python",
   "name": "python",
   "nbconvert_exporter": "python",
   "pygments_lexer": "ipython3",
   "version": "3.9.12"
  }
 },
 "nbformat": 4,
 "nbformat_minor": 5
}
