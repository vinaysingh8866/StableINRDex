{
 "cells": [
  {
   "cell_type": "code",
   "execution_count": 8,
   "id": "2d250c54",
   "metadata": {},
   "outputs": [],
   "source": [
    "from bs4 import BeautifulSoup \n",
    "import glob \n",
    "import arweave\n",
    "from arweave.arweave_lib import Wallet, Transaction\n",
    "from arweave.transaction_uploader import get_uploader\n",
    "import requests\n",
    "wallet_file_path = '/Users/vinaysingh/Desktop/keys/arweave-key-P8UQxA_pYGgYq99rxYQzSAu6tUZrfXvyiGKcWJQStvo.json'\n",
    "wallet = arweave.Wallet(wallet_file_path)\n",
    "files = glob.glob(\"out/**\",recursive=True)\n",
    "file = open(\"out/index.html\")\n",
    "data = file.read()\n",
    "soup = BeautifulSoup(data, 'html.parser')"
   ]
  },
  {
   "cell_type": "code",
   "execution_count": 9,
   "id": "07bc0d21",
   "metadata": {},
   "outputs": [],
   "source": [
    "balance =  wallet.balance"
   ]
  },
  {
   "cell_type": "code",
   "execution_count": 15,
   "id": "f8e1b7cd",
   "metadata": {},
   "outputs": [
    {
     "name": "stdout",
     "output_type": "stream",
     "text": [
      "0.26798435614 BVlEbdRGJ1760Aj2qbJjvTyuLW_2WiMlmibNW9-zpHA2s_h_ff_Vp-O1JWwfB7tB\n"
     ]
    }
   ],
   "source": [
    "last_transaction = wallet.get_last_transaction_id()\n",
    "print(balance, last_transaction)"
   ]
  },
  {
   "cell_type": "code",
   "execution_count": 11,
   "id": "f4615b87",
   "metadata": {},
   "outputs": [
    {
     "name": "stdout",
     "output_type": "stream",
     "text": [
      "100% complete, 1/1\n",
      "<script defer=\"\" src=\"/_next/static/chunks/webpack-434fefa8f39d8fbc.js\"></script> JgqC1XJqH0HNb2BHIWhETx5GaVcX_m4AT96XpybbAAA\n",
      "100% complete, 1/1\n",
      "<script defer=\"\" src=\"/_next/static/chunks/framework-1f10003e17636e37.js\"></script> WNK4Bds28Kg5oDcfahyzIJSJ8g583bcAdKPbeQq7z98\n",
      "100% complete, 1/1\n",
      "<script defer=\"\" src=\"/_next/static/chunks/main-fc7d2f0e2098927e.js\"></script> PWSeRq2Di5nhhkMMsAKAsU_bnn9QeKweZdAYvFZOks4\n",
      "100% complete, 1/1\n",
      "<script defer=\"\" src=\"/_next/static/chunks/pages/_app-ff5e6479e160d139.js\"></script> 4JABCo_HRYS5UlUiEs-BJI64G9usPZ4oKvjLHeHXsWg\n",
      "50% complete, 1/2\n",
      "100% complete, 2/2\n",
      "<script defer=\"\" src=\"/_next/static/chunks/583-8f6823f5484e3f2c.js\"></script> or1gPcn566k2sOefx0odVutjpug5NVYrR4EteatSTj8\n",
      "100% complete, 1/1\n",
      "<script defer=\"\" src=\"/_next/static/chunks/pages/index-1cf8d8ea0d978bd9.js\"></script> 7_HnjTIfzlVwKhcxOdLfvcBsCz6rZHRbFN_OwWj8Rj8\n",
      "100% complete, 1/1\n",
      "<script defer=\"\" src=\"/_next/static/defaUEW3NnBKVwXmY9eH2/_buildManifest.js\"></script> xOVcxIZTdje_L9XnY0GYVST5QJVBQ93OLh43gg_fflg\n",
      "100% complete, 1/1\n",
      "<script defer=\"\" src=\"/_next/static/defaUEW3NnBKVwXmY9eH2/_ssgManifest.js\"></script> mgyjNlsmWpl5CLQSvQPF27oSkfREjWWNvJ4QCzo1ynE\n",
      "100% complete, 1/1\n",
      "<script defer=\"\" src=\"/_next/static/defaUEW3NnBKVwXmY9eH2/_middlewareManifest.js\"></script> 17BKBzmWb5ioMDp-3yKFugXnE3Y_eB-5SYEvfhpY5nU\n",
      "exists\n",
      "https://eyfifvlsnipudtlpmbdsc2cej4pem2kxc6nyae7xuxu4tnwaaa.arweave.net/JgqC1XJqH0HNb2BHIWhETx5GaVcX_m4AT96XpybbAAA\n",
      "exists\n",
      "https://ldjlqbo3g3ykqonag4pwuhfteckit4qopto3oaduupnxscv3z7pq.arweave.net/WNK4Bds28Kg5oDcfahyzIJSJ8g583bcAdKPbeQq7z98\n",
      "exists\n",
      "https://hvsj4rvnqofztymgimglaauawfdoph6udyvqpgluayxrle5ewm.arweave.net/PWSeRq2Di5nhhkMMsAKAsU_bnn9QeKweZdAYvFZOks4\n",
      "exists\n",
      "https://4ciaccub2fqs4vevjcclaesi5oa33owd3hrifl4mwhpb26yw.arweave.net/4JABCo_HRYS5UlUiEs-BJI64G9usPZ4oKvjLHeHXsWg\n",
      "exists\n",
      "https://uk6wapoj7hv2snvq46p4osq5k3vwhjxihe2vmk2hqewxtk2sjy7q.arweave.net/or1gPcn566k2sOefx0odVutjpug5NVYrR4EteatSTj8\n",
      "exists\n",
      "https://5r46gteh6okvycufzrhhjn7poanqft5k3eornrju5qli7rdd.arweave.net/7_HnjTIfzlVwKhcxOdLfvcBsCz6rZHRbFN_OwWj8Rj8\n",
      "exists\n",
      "https://ytsvzregkn3dpc7vphmnazqvje7fajkqkd3xhc4hrxqid57f.arweave.net/xOVcxIZTdje_L9XnY0GYVST5QJVBQ93OLh43gg_fflg\n",
      "exists\n",
      "https://tigkgns3eznjs6iiwqjl2a6f3o5bfepuisgwldn4tyiaworvzjyq.arweave.net/mgyjNlsmWpl5CLQSvQPF27oSkfREjWWNvJ4QCzo1ynE\n",
      "exists\n",
      "https://26yeubzzszxzrkbqhj34riloqf44jxmhqhssmbf57buwhgou.arweave.net/17BKBzmWb5ioMDp-3yKFugXnE3Y_eB-5SYEvfhpY5nU\n",
      "/_next/static/css/4ca8d95180adb9ca.css\n",
      "100% complete, 1/1\n",
      "<link as=\"style\" href=\"/_next/static/css/4ca8d95180adb9ca.css\" rel=\"preload\"/> ZlHmUKGs61aVyUNLPelNw4Vnogi4nPDbbIUOh_BfH5Q\n",
      "/_next/static/css/4ca8d95180adb9ca.css\n",
      "100% complete, 1/1\n",
      "<link data-n-g=\"\" href=\"/_next/static/css/4ca8d95180adb9ca.css\" rel=\"stylesheet\"/> ofRucsdZJXIm4XbcN-K4LE1pX81SvF8v-BQsiPSt4t4\n",
      "exists\n",
      "https://mzi6mufbvtvvnfojinft32knyocwpiqixcopbw3mquhiif6h4u.arweave.net/ZlHmUKGs61aVyUNLPelNw4Vnogi4nPDbbIUOh_BfH5Q\n",
      "https://uh2g44whlesxejxbo3odjlqlcnnfp42uv4l4xqkczchuvxrn.arweave.net/ofRucsdZJXIm4XbcN-K4LE1pX81SvF8v-BQsiPSt4t4\n"
     ]
    }
   ],
   "source": [
    "fileN = \"out\"\n",
    "tx = \"\"\n",
    "tagsDict = {}\n",
    "for tag in soup.findAll('script'):\n",
    "    if('src' in str(tag)):\n",
    "        with open(fileN+tag['src'], \"rb\", buffering=0) as file_handler:\n",
    "            tx = Transaction(wallet, file_handler=file_handler, file_path=fileN+tag['src'])\n",
    "            tx.add_tag('Content-Type','application/javascript') \n",
    "            tx.sign()\n",
    "            uploader = get_uploader(tx, file_handler)\n",
    "            while not uploader.is_complete:\n",
    "                uploader.upload_chunk()\n",
    "\n",
    "                print(\"{}% complete, {}/{}\".format(\n",
    "                    uploader.pct_complete, uploader.uploaded_chunks, uploader.total_chunks\n",
    "                ))\n",
    "            tagsDict[tx.id] = tag['src']\n",
    "            print(tag, tx.id)\n",
    "\n",
    "for x in tagsDict:\n",
    "    r = requests.get('https://arweave.net/' + x)\n",
    "    file = open('out/index.html', 'r')\n",
    "    filedata = file.read()\n",
    "    file.close()\n",
    "    if(tagsDict[x] in filedata):\n",
    "        print(\"exists\")\n",
    "    filedata = filedata.replace(tagsDict[x], r.url)\n",
    "    with open('out/index.html', 'w') as filea:\n",
    "        filea.write(filedata)\n",
    "    \n",
    "    print(r.url)\n",
    "\n",
    "tx = \"\"\n",
    "tagsDictCss = {}\n",
    "for tag in soup.findAll('link'):\n",
    "    if('href' in str(tag) and '.css' in str(tag)):\n",
    "        print(tag['href'])\n",
    "        with open(fileN+tag['href'], \"rb\", buffering=0) as file_handler:\n",
    "            tx = Transaction(wallet, file_handler=file_handler, file_path=fileN+tag['href'])\n",
    "            tx.add_tag('Content-Type','text/css') \n",
    "            tx.sign()\n",
    "            uploader = get_uploader(tx, file_handler)\n",
    "            while not uploader.is_complete:\n",
    "                uploader.upload_chunk()\n",
    "\n",
    "                print(\"{}% complete, {}/{}\".format(\n",
    "                    uploader.pct_complete, uploader.uploaded_chunks, uploader.total_chunks\n",
    "                ))\n",
    "            tagsDictCss[tx.id] = tag['href']\n",
    "            print(tag, tx.id)\n",
    "\n",
    "for x in tagsDictCss:\n",
    "    r = requests.get('https://arweave.net/' + x)\n",
    "    file = open('out/index.html', 'r')\n",
    "    filedata = file.read()\n",
    "    file.close()\n",
    "    if(tagsDictCss[x] in filedata):\n",
    "        print(\"exists\")\n",
    "    filedata = filedata.replace(tagsDictCss[x], r.url)\n",
    "    with open('out/index.html', 'w') as filea:\n",
    "        filea.write(filedata)\n",
    "    \n",
    "    print(r.url)\n"
   ]
  },
  {
   "cell_type": "code",
   "execution_count": 16,
   "id": "eeddc0af",
   "metadata": {},
   "outputs": [
    {
     "name": "stdout",
     "output_type": "stream",
     "text": [
      "uGSoQ9FslzVhZ_gU7O6XiuQ3mik6yfWd7l-E_1h-iiY\n",
      "100% complete, 1/1\n"
     ]
    }
   ],
   "source": [
    "with open('out/index.html', \"rb\", buffering=0) as file_handler:\n",
    "                tx = Transaction(wallet, file_handler=file_handler, file_path=\"out/index.html\")\n",
    "                tx.add_tag('Content-Type','text/html') \n",
    "                tx.sign()\n",
    "                print(tx.id)\n",
    "                uploader = get_uploader(tx, file_handler)\n",
    "                while not uploader.is_complete:\n",
    "                    uploader.upload_chunk()\n",
    "\n",
    "                    print(\"{}% complete, {}/{}\".format(\n",
    "                        uploader.pct_complete, uploader.uploaded_chunks, uploader.total_chunks\n",
    "                    ))"
   ]
  },
  {
   "cell_type": "code",
   "execution_count": 13,
   "id": "b53df0fb",
   "metadata": {},
   "outputs": [
    {
     "data": {
      "text/plain": [
       "<link data-n-g=\"\" href=\"/_next/static/css/4ca8d95180adb9ca.css\" rel=\"stylesheet\"/>"
      ]
     },
     "execution_count": 13,
     "metadata": {},
     "output_type": "execute_result"
    }
   ],
   "source": [
    "tag\n",
    "\n"
   ]
  },
  {
   "cell_type": "code",
   "execution_count": 69,
   "id": "1ca3e602",
   "metadata": {},
   "outputs": [
    {
     "name": "stdout",
     "output_type": "stream",
     "text": [
      "/_next/static/css/962cf09ecce53247.css\n",
      "100% complete, 1/1\n",
      "<link as=\"style\" href=\"/_next/static/css/962cf09ecce53247.css\" rel=\"preload\"/> FVZx7GIQKHP1eIPohgQr8YFG_7e_Yb7eZ2pG7DGwL8E\n",
      "/_next/static/css/962cf09ecce53247.css\n",
      "100% complete, 1/1\n",
      "<link data-n-g=\"\" href=\"/_next/static/css/962cf09ecce53247.css\" rel=\"stylesheet\"/> wQk5xIcrSKK1i963G5QsfKkcwCJ57dB9hMbh_ZqJ5OQ\n"
     ]
    }
   ],
   "source": [
    "fileN = \"out\"\n",
    "\n",
    "        "
   ]
  },
  {
   "cell_type": "code",
   "execution_count": 71,
   "id": "5ab53191",
   "metadata": {},
   "outputs": [],
   "source": [
    "tagsDictCss = {}\n",
    "tagsDictCss['FVZx7GIQKHP1eIPohgQr8YFG_7e_Yb7eZ2pG7DGwL8E'] = \"/_next/static/css/962cf09ecce53247.css\"\n",
    "\n"
   ]
  },
  {
   "cell_type": "code",
   "execution_count": 72,
   "id": "d2776977",
   "metadata": {},
   "outputs": [
    {
     "name": "stdout",
     "output_type": "stream",
     "text": [
      "exists\n",
      "https://cvlhd3dccauhh5lyqpuimbbl6gaun3pgdpw6m5ven3brwax4.arweave.net/FVZx7GIQKHP1eIPohgQr8YFG_7e_Yb7eZ2pG7DGwL8E\n"
     ]
    }
   ],
   "source": []
  },
  {
   "cell_type": "code",
   "execution_count": null,
   "id": "9c89f639",
   "metadata": {},
   "outputs": [],
   "source": []
  }
 ],
 "metadata": {
  "interpreter": {
   "hash": "aee8b7b246df8f9039afb4144a1f6fd8d2ca17a180786b69acc140d282b71a49"
  },
  "kernelspec": {
   "display_name": "Python 3.9.12 64-bit",
   "language": "python",
   "name": "python3"
  },
  "language_info": {
   "codemirror_mode": {
    "name": "ipython",
    "version": 3
   },
   "file_extension": ".py",
   "mimetype": "text/x-python",
   "name": "python",
   "nbconvert_exporter": "python",
   "pygments_lexer": "ipython3",
   "version": "3.9.12"
  }
 },
 "nbformat": 4,
 "nbformat_minor": 5
}
